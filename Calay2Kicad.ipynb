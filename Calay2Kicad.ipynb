{
 "cells": [
  {
   "cell_type": "code",
   "execution_count": 4,
   "metadata": {
    "collapsed": true
   },
   "outputs": [],
   "source": [
    "import PcbNetList as netlist\n",
    "\n",
    "#Calayネットリストを読み込む\n",
    "net = netlist.Calay_Read('01_DESIGN1.NET')\n",
    "\n",
    "\n",
    "#KiCADネットリストを部品情報付で出力する\n",
    "#部品情報自動作成（部品パッドを自動的にピンヘッダー）する場合\n",
    "netlist.Kicad_Write(net, 'kicad.net')\n",
    "\n",
    "#部品情報（パーツリスト）をcsvファイルで指定する場合\n",
    "#netlist.Kicad_Write(net, 'kicad2.net', '01_DESIGN1.csv')\n",
    "\n"
   ]
  },
  {
   "cell_type": "code",
   "execution_count": null,
   "metadata": {
    "collapsed": true
   },
   "outputs": [],
   "source": []
  }
 ],
 "metadata": {
  "kernelspec": {
   "display_name": "Python 3",
   "language": "python",
   "name": "python3"
  },
  "language_info": {
   "codemirror_mode": {
    "name": "ipython",
    "version": 3
   },
   "file_extension": ".py",
   "mimetype": "text/x-python",
   "name": "python",
   "nbconvert_exporter": "python",
   "pygments_lexer": "ipython3",
   "version": "3.5.3"
  }
 },
 "nbformat": 4,
 "nbformat_minor": 2
}
