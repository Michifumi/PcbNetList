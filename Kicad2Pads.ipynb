{
 "cells": [
  {
   "cell_type": "code",
   "execution_count": 2,
   "metadata": {},
   "outputs": [],
   "source": [
    "import PcbNetList as netlist\n",
    "\n",
    "#KiCADネットリストを読み込む\n",
    "net = netlist.Kicad_Read('kicad.net')\n",
    "\n",
    "##Calayネットリストを出力する\n",
    "#netlist.Calay_Write(net)\n",
    "##CR-500ネットリストを出力する\n",
    "#netlist.CCF_Write(net)\n",
    "##DK-Σネットリストを出力する\n",
    "#netlist.DKS_Write(net)\n",
    "##MM-2ネットリストを出力する\n",
    "#netlist.MM2_Write(net)\n",
    "##Telesisネットリストを出力する\n",
    "#netlist.Telesis_Write(net)\n",
    "#PADSネットリストを出力する\n",
    "netlist.PADS_Write(net)\n",
    "##Intergraphネットリストを出力する\n",
    "#netlist.Intergra_Write(net)\n"
   ]
  },
  {
   "cell_type": "code",
   "execution_count": null,
   "metadata": {
    "collapsed": true
   },
   "outputs": [],
   "source": []
  }
 ],
 "metadata": {
  "kernelspec": {
   "display_name": "Python 3",
   "language": "python",
   "name": "python3"
  },
  "language_info": {
   "codemirror_mode": {
    "name": "ipython",
    "version": 3
   },
   "file_extension": ".py",
   "mimetype": "text/x-python",
   "name": "python",
   "nbconvert_exporter": "python",
   "pygments_lexer": "ipython3",
   "version": "3.5.3"
  }
 },
 "nbformat": 4,
 "nbformat_minor": 2
}
